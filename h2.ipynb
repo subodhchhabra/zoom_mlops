{
 "cells": [
  {
   "cell_type": "code",
   "execution_count": 5,
   "metadata": {},
   "outputs": [],
   "source": [
    "# %%sh\n",
    "# cd data\n",
    "# wget https://s3.amazonaws.com/nyc-tlc/trip+data/green_tripdata_2021-01.parquet \n",
    "# wget https://s3.amazonaws.com/nyc-tlc/trip+data/green_tripdata_2021-02.parquet \n",
    "# wget https://s3.amazonaws.com/nyc-tlc/trip+data/green_tripdata_2021-03.parquet \n"
   ]
  },
  {
   "cell_type": "code",
   "execution_count": 2,
   "metadata": {},
   "outputs": [],
   "source": [
    "!python preprocess.py --raw_data_path data --dest_path ./output"
   ]
  },
  {
   "cell_type": "code",
   "execution_count": 7,
   "metadata": {},
   "outputs": [
    {
     "name": "stdout",
     "output_type": "stream",
     "text": [
      "dv.pkl\ttest.pkl  train.pkl  valid.pkl\n"
     ]
    }
   ],
   "source": [
    "!ls output \n",
    "# Ans 1 - 4"
   ]
  },
  {
   "cell_type": "code",
   "execution_count": 11,
   "metadata": {},
   "outputs": [
    {
     "name": "stdout",
     "output_type": "stream",
     "text": [
      "2022/05/30 14:34:42 WARNING mlflow.utils.autologging_utils: MLflow autologging encountered a warning: \"/home/schhabra/miniconda3/envs/py39/lib/python3.9/site-packages/_distutils_hack/__init__.py:30: UserWarning: Setuptools is replacing distutils.\"\n"
     ]
    }
   ],
   "source": [
    "!python train.py"
   ]
  },
  {
   "cell_type": "code",
   "execution_count": 12,
   "metadata": {},
   "outputs": [],
   "source": [
    "# number of parameters logged 17"
   ]
  },
  {
   "cell_type": "code",
   "execution_count": 14,
   "metadata": {},
   "outputs": [
    {
     "name": "stdout",
     "output_type": "stream",
     "text": [
      "Traceback (most recent call last):\n",
      "  File \"/home/schhabra/experiments/mlops_zoom/m1/hpo.py\", line 6, in <module>\n",
      "    from hyperopt import STATUS_OK, Trials, fmin, hp, tpe\n",
      "ModuleNotFoundError: No module named 'hyperopt'\n"
     ]
    }
   ],
   "source": [
    "!python hpo.py"
   ]
  },
  {
   "cell_type": "code",
   "execution_count": 2,
   "metadata": {},
   "outputs": [],
   "source": [
    "from mlflow.tracking import MlflowClient\n",
    "client = MlflowClient(\"http://127.0.0.1:5000\")"
   ]
  },
  {
   "cell_type": "code",
   "execution_count": 3,
   "metadata": {},
   "outputs": [
    {
     "data": {
      "text/plain": [
       "<Experiment: artifact_location='s3://mlflow-artifacts/13', experiment_id='13', lifecycle_stage='active', name='random-forest-hyperopt', tags={}>"
      ]
     },
     "execution_count": 3,
     "metadata": {},
     "output_type": "execute_result"
    }
   ],
   "source": [
    "exp = client.get_experiment_by_name('random-forest-hyperopt')\n",
    "exp"
   ]
  },
  {
   "cell_type": "code",
   "execution_count": 14,
   "metadata": {},
   "outputs": [],
   "source": [
    "run = client.search_runs(experiment_ids=exp.experiment_id , order_by=[\"metrics.rmse ASC\"])"
   ]
  },
  {
   "cell_type": "code",
   "execution_count": 16,
   "metadata": {},
   "outputs": [
    {
     "data": {
      "text/plain": [
       "6.62842574820447"
      ]
     },
     "execution_count": 16,
     "metadata": {},
     "output_type": "execute_result"
    }
   ],
   "source": [
    "# minimum rmse\n",
    "sorted([r.data.metrics['rmse'] for r in run])[0]"
   ]
  },
  {
   "cell_type": "code",
   "execution_count": 20,
   "metadata": {},
   "outputs": [],
   "source": [
    "_runs = {r.data.metrics['rmse']:r.info.run_id for r in run}"
   ]
  },
  {
   "cell_type": "code",
   "execution_count": 23,
   "metadata": {},
   "outputs": [
    {
     "data": {
      "text/plain": [
       "(6.62842574820447, 'bec2ffe8897347549a90fbedd0e689a3')"
      ]
     },
     "execution_count": 23,
     "metadata": {},
     "output_type": "execute_result"
    }
   ],
   "source": [
    "min(_runs), _runs[min(_runs)]"
   ]
  },
  {
   "cell_type": "code",
   "execution_count": 19,
   "metadata": {},
   "outputs": [
    {
     "data": {
      "text/plain": [
       "{'bec2ffe8897347549a90fbedd0e689a3': 6.62842574820447,\n",
       " 'a2ee4e00589d4cfdbab8cdf3e8c29a5f': 6.62972800771013,\n",
       " '8ae70b78ce9a4393802755aa870e6e75': 6.62985102203826,\n",
       " 'dfe71470d51c4b8e8652b906e3c38b56': 6.62985102203826,\n",
       " '3458d3bc07a542ff9ef658b574d9c99d': 6.62989321963751,\n",
       " 'f6512ef90f2f4e0781d2f1f83f3bb0c9': 6.63124192567181,\n",
       " '77c1cbf7508e4233afc71010a8f9d36f': 6.63140541341828,\n",
       " '29ef677e0ccd4e9c94b4c8572ce8616a': 6.63373002104584,\n",
       " '8b4d8dcb0b374b3cadff57aa18b3603a': 6.63374616020161,\n",
       " '0bd651f8872a44c2af4710b2a46d196f': 6.63886120702391,\n",
       " 'ce759fcd92dd4b5aaf760d66093e841d': 6.64213728742921,\n",
       " '6cb6baeb99a84921887c9fbbc6d767fc': 6.64511703842987,\n",
       " '04a3933098a549b1bb5d84f53b90e190': 6.64703390653905,\n",
       " '94655f54b32e40248b0111e17cf6aeb1': 6.6488155653121,\n",
       " 'd4258544790c4639895b4079fd7daa64': 6.64916050642005,\n",
       " 'cfeca7de5ef845e69552064e8b6e95d6': 6.65143855937677,\n",
       " '57e14127c76d40d8bc77dbeac10e0b4c': 6.65280333206408,\n",
       " 'fb0db7c7df7445ae92c184eea0416b72': 6.65368383287616,\n",
       " '81650bc1d93947d5a8f32ea4da946b87': 6.65465947197138,\n",
       " 'df85129424d6425f9bba3d2a6d669ece': 6.65533874237279,\n",
       " '028ffed6e192403f87278779473e7779': 6.65882236595335,\n",
       " 'd57291f5b4aa426d97260a5d30663e52': 6.65895626934301,\n",
       " '6ace0b5ed9cf4358a72b0be53e44700a': 6.66005390658667,\n",
       " '795d08b48fd94f4e85297468bec4121e': 6.66064463157612,\n",
       " '7ba37b9e129a4f4f941bd4f3726a1936': 6.66706634892831,\n",
       " 'f794bf3d8f2c4be9a41400fc040e4ed8': 6.6729449097319,\n",
       " 'a7ebcdad1e9e40a387c47cc445928e50': 6.67410264615331,\n",
       " '3ed157b37443481f86e2d6904a9f80e8': 6.68154237436142,\n",
       " 'e2d92c610954489c9f5ab2c5790d4a6c': 6.68551104222556,\n",
       " '7009ec3defbb4cf982e14cbd446b0b6c': 6.68753875278454,\n",
       " '496d97e4546c48588c2b97024e139622': 6.70585501519186,\n",
       " 'daca9fe724434284818d38c54c7e80df': 6.70662377321725,\n",
       " '972717c8ada64abcb7e6cb35cfadef40': 6.70745836897248,\n",
       " 'c9f4724b76194697aca87fa7febcdd71': 6.70750327467278,\n",
       " 'a841ab72f0a04c4299927e35a678741b': 6.71049119855493,\n",
       " '1c179bbf31514d4aa31b5bab23070b84': 6.71511011343781,\n",
       " '200e8f0e18c84a40b8f23ebaf7811f97': 6.71655952200999,\n",
       " '0d7e72c0536849e1811654f7c903d4cf': 6.72299904834707,\n",
       " 'f402131461eb4eb489b8ab64a003692f': 6.72354425435346,\n",
       " 'd20d0a0c16ba476e8a9efd6125eec8d3': 6.72526555886745,\n",
       " 'c4e888eac5fe43e6a18d59d91b022ada': 6.72877937122097,\n",
       " '39a48ddbcd02498c8f2cd61c52745893': 6.73605840940212,\n",
       " '41b2cd5691034cd5997d319745ff3037': 6.74917984858609,\n",
       " '28383685e78042f7b127bd497e4e8b73': 6.77342506974367,\n",
       " '3ffec7414bbf4fcbaed79a90b15caf05': 6.77402162280456,\n",
       " '671819035f7242e181b475b9130b859d': 6.85180379140975,\n",
       " '2182ecad1a4d4010ba744bc2acec13ac': 7.04809099005043,\n",
       " '126603992ae647af86b18cf8c2ccf8c9': 7.44784867027776,\n",
       " '93b6499d85ce42808a8de2c95f6c20d4': 7.44817214850402,\n",
       " '9eeb5066f9be43089b6cd21ffa6dc107': 8.83334004746674}"
      ]
     },
     "execution_count": 19,
     "metadata": {},
     "output_type": "execute_result"
    }
   ],
   "source": [
    "_runs"
   ]
  },
  {
   "cell_type": "code",
   "execution_count": 18,
   "metadata": {},
   "outputs": [],
   "source": [
    "model_uri = f\"runs/{_runs[min(_runs)]}/model\"\n",
    "#mlflow.register_model(model_uri)"
   ]
  },
  {
   "cell_type": "code",
   "execution_count": 33,
   "metadata": {},
   "outputs": [
    {
     "name": "stdout",
     "output_type": "stream",
     "text": [
      "2022/05/31 09:43:28 WARNING mlflow.utils.autologging_utils: MLflow autologging encountered a warning: \"/home/schhabra/miniconda3/envs/py39/lib/python3.9/site-packages/_distutils_hack/__init__.py:30: UserWarning: Setuptools is replacing distutils.\"\n",
      "2022/05/31 09:43:28 WARNING mlflow.utils.autologging_utils: Encountered unexpected error during sklearn autologging: No module named 'boto3'\n",
      "2022/05/31 09:43:49 WARNING mlflow.utils.autologging_utils: Encountered unexpected error during sklearn autologging: No module named 'boto3'\n",
      "2022/05/31 09:44:19 WARNING mlflow.utils.autologging_utils: Encountered unexpected error during sklearn autologging: No module named 'boto3'\n",
      "2022/05/31 09:44:47 WARNING mlflow.utils.autologging_utils: Encountered unexpected error during sklearn autologging: No module named 'boto3'\n",
      "2022/05/31 09:45:09 WARNING mlflow.utils.autologging_utils: Encountered unexpected error during sklearn autologging: No module named 'boto3'\n",
      "best run rmse (6.54788618559542,)\n",
      "Successfully registered model 'testModel_subodh'.\n",
      "2022/05/31 09:45:10 INFO mlflow.tracking._model_registry.client: Waiting up to 300 seconds for model version to finish creation.                     Model name: testModel_subodh, version 1\n",
      "Created version '1' of model 'testModel_subodh'.\n"
     ]
    }
   ],
   "source": [
    "!python register_model.py"
   ]
  },
  {
   "cell_type": "code",
   "execution_count": 25,
   "metadata": {},
   "outputs": [],
   "source": [
    "EXPERIMENT_NAME = \"random-forest-best-models\"\n",
    "from mlflow.entities import ViewType\n",
    "experiment = client.get_experiment_by_name(EXPERIMENT_NAME)\n",
    "runs = client.search_runs(\n",
    "    experiment_ids=experiment.experiment_id,\n",
    "    run_view_type=ViewType.ACTIVE_ONLY,\n",
    "    max_results=5,\n",
    "    order_by=[\"metrics.rmse ASC\"],\n",
    "    )"
   ]
  },
  {
   "cell_type": "code",
   "execution_count": 31,
   "metadata": {},
   "outputs": [
    {
     "data": {
      "text/plain": [
       "{'valid_rmse': 6.62989321963751, 'test_rmse': 6.54885272240193}"
      ]
     },
     "execution_count": 31,
     "metadata": {},
     "output_type": "execute_result"
    }
   ],
   "source": [
    "runs[0].data.metrics\n",
    "# abd 6.628"
   ]
  },
  {
   "cell_type": "code",
   "execution_count": 32,
   "metadata": {},
   "outputs": [
    {
     "name": "stdout",
     "output_type": "stream",
     "text": [
      "mlflow, version 1.26.1\n"
     ]
    }
   ],
   "source": [
    "!mlflow --version"
   ]
  },
  {
   "cell_type": "code",
   "execution_count": null,
   "metadata": {},
   "outputs": [],
   "source": []
  }
 ],
 "metadata": {
  "interpreter": {
   "hash": "9517288dc228267d4b27510434cba0e91be5e2791d6bcffda520d8034e974ba6"
  },
  "kernelspec": {
   "display_name": "Python 3.9.12 ('py39')",
   "language": "python",
   "name": "python3"
  },
  "language_info": {
   "codemirror_mode": {
    "name": "ipython",
    "version": 3
   },
   "file_extension": ".py",
   "mimetype": "text/x-python",
   "name": "python",
   "nbconvert_exporter": "python",
   "pygments_lexer": "ipython3",
   "version": "3.9.12"
  },
  "orig_nbformat": 4
 },
 "nbformat": 4,
 "nbformat_minor": 2
}
